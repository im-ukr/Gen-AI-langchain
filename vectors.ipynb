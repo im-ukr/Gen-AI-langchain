{
 "cells": [
  {
   "cell_type": "code",
   "execution_count": 1,
   "id": "676c9dea-eeef-406e-9e90-f1cb5ab3f355",
   "metadata": {},
   "outputs": [
    {
     "name": "stdout",
     "output_type": "stream",
     "text": [
      "Collecting faiss-cpu\n",
      "  Downloading faiss_cpu-1.8.0-cp311-cp311-win_amd64.whl.metadata (3.8 kB)\n",
      "Requirement already satisfied: numpy in c:\\users\\aakarsh roy\\anaconda3\\lib\\site-packages (from faiss-cpu) (1.26.4)\n",
      "Downloading faiss_cpu-1.8.0-cp311-cp311-win_amd64.whl (14.5 MB)\n",
      "   ---------------------------------------- 0.0/14.5 MB ? eta -:--:--\n",
      "   ---------------------------------------- 0.0/14.5 MB ? eta -:--:--\n",
      "   ---------------------------------------- 0.0/14.5 MB 487.6 kB/s eta 0:00:30\n",
      "    --------------------------------------- 0.3/14.5 MB 3.0 MB/s eta 0:00:05\n",
      "   -- ------------------------------------- 0.9/14.5 MB 6.6 MB/s eta 0:00:03\n",
      "   ---- ----------------------------------- 1.6/14.5 MB 8.6 MB/s eta 0:00:02\n",
      "   ------ --------------------------------- 2.3/14.5 MB 9.6 MB/s eta 0:00:02\n",
      "   ------ --------------------------------- 2.3/14.5 MB 9.6 MB/s eta 0:00:02\n",
      "   ------ --------------------------------- 2.4/14.5 MB 7.2 MB/s eta 0:00:02\n",
      "   ------- -------------------------------- 2.8/14.5 MB 7.3 MB/s eta 0:00:02\n",
      "   -------- ------------------------------- 3.0/14.5 MB 7.1 MB/s eta 0:00:02\n",
      "   -------- ------------------------------- 3.2/14.5 MB 6.7 MB/s eta 0:00:02\n",
      "   --------- ------------------------------ 3.4/14.5 MB 6.5 MB/s eta 0:00:02\n",
      "   --------- ------------------------------ 3.5/14.5 MB 6.1 MB/s eta 0:00:02\n",
      "   --------- ------------------------------ 3.6/14.5 MB 5.9 MB/s eta 0:00:02\n",
      "   ---------- ----------------------------- 3.7/14.5 MB 5.6 MB/s eta 0:00:02\n",
      "   ---------- ----------------------------- 3.8/14.5 MB 5.4 MB/s eta 0:00:03\n",
      "   ---------- ----------------------------- 3.8/14.5 MB 5.4 MB/s eta 0:00:03\n",
      "   ---------- ----------------------------- 3.8/14.5 MB 5.4 MB/s eta 0:00:03\n",
      "   ---------- ----------------------------- 3.8/14.5 MB 5.4 MB/s eta 0:00:03\n",
      "   ---------- ----------------------------- 3.8/14.5 MB 5.4 MB/s eta 0:00:03\n",
      "   ---------- ----------------------------- 3.8/14.5 MB 4.1 MB/s eta 0:00:03\n",
      "   ---------- ----------------------------- 3.9/14.5 MB 3.9 MB/s eta 0:00:03\n",
      "   ----------- ---------------------------- 4.1/14.5 MB 3.9 MB/s eta 0:00:03\n",
      "   ----------- ---------------------------- 4.3/14.5 MB 4.0 MB/s eta 0:00:03\n",
      "   ------------ --------------------------- 4.7/14.5 MB 4.2 MB/s eta 0:00:03\n",
      "   -------------- ------------------------- 5.2/14.5 MB 4.5 MB/s eta 0:00:03\n",
      "   ---------------- ----------------------- 6.0/14.5 MB 5.0 MB/s eta 0:00:02\n",
      "   ----------------- ---------------------- 6.2/14.5 MB 5.0 MB/s eta 0:00:02\n",
      "   ----------------- ---------------------- 6.5/14.5 MB 5.0 MB/s eta 0:00:02\n",
      "   ------------------ --------------------- 6.8/14.5 MB 5.1 MB/s eta 0:00:02\n",
      "   ------------------- -------------------- 7.0/14.5 MB 5.0 MB/s eta 0:00:02\n",
      "   ------------------- -------------------- 7.2/14.5 MB 5.0 MB/s eta 0:00:02\n",
      "   -------------------- ------------------- 7.4/14.5 MB 5.0 MB/s eta 0:00:02\n",
      "   -------------------- ------------------- 7.6/14.5 MB 4.9 MB/s eta 0:00:02\n",
      "   --------------------- ------------------ 7.7/14.5 MB 4.9 MB/s eta 0:00:02\n",
      "   --------------------- ------------------ 7.9/14.5 MB 4.8 MB/s eta 0:00:02\n",
      "   ---------------------- ----------------- 8.1/14.5 MB 4.8 MB/s eta 0:00:02\n",
      "   ----------------------- ---------------- 8.4/14.5 MB 4.9 MB/s eta 0:00:02\n",
      "   ----------------------- ---------------- 8.7/14.5 MB 4.9 MB/s eta 0:00:02\n",
      "   ------------------------ --------------- 9.1/14.5 MB 5.0 MB/s eta 0:00:02\n",
      "   -------------------------- ------------- 9.4/14.5 MB 5.1 MB/s eta 0:00:01\n",
      "   --------------------------- ------------ 9.9/14.5 MB 5.2 MB/s eta 0:00:01\n",
      "   ---------------------------- ----------- 10.5/14.5 MB 5.5 MB/s eta 0:00:01\n",
      "   ----------------------------- ---------- 10.8/14.5 MB 5.5 MB/s eta 0:00:01\n",
      "   ------------------------------ --------- 11.1/14.5 MB 5.4 MB/s eta 0:00:01\n",
      "   ------------------------------- -------- 11.4/14.5 MB 5.3 MB/s eta 0:00:01\n",
      "   ------------------------------- -------- 11.4/14.5 MB 5.2 MB/s eta 0:00:01\n",
      "   ------------------------------- -------- 11.5/14.5 MB 5.1 MB/s eta 0:00:01\n",
      "   -------------------------------- ------- 11.6/14.5 MB 5.0 MB/s eta 0:00:01\n",
      "   -------------------------------- ------- 11.8/14.5 MB 4.9 MB/s eta 0:00:01\n",
      "   --------------------------------- ------ 12.0/14.5 MB 4.8 MB/s eta 0:00:01\n",
      "   --------------------------------- ------ 12.3/14.5 MB 4.8 MB/s eta 0:00:01\n",
      "   ---------------------------------- ----- 12.6/14.5 MB 4.9 MB/s eta 0:00:01\n",
      "   ----------------------------------- ---- 12.9/14.5 MB 4.9 MB/s eta 0:00:01\n",
      "   ------------------------------------ --- 13.4/14.5 MB 5.0 MB/s eta 0:00:01\n",
      "   -------------------------------------- - 13.9/14.5 MB 5.4 MB/s eta 0:00:01\n",
      "   ---------------------------------------  14.4/14.5 MB 6.6 MB/s eta 0:00:01\n",
      "   ---------------------------------------  14.5/14.5 MB 6.7 MB/s eta 0:00:01\n",
      "   ---------------------------------------- 14.5/14.5 MB 6.4 MB/s eta 0:00:00\n",
      "Installing collected packages: faiss-cpu\n",
      "Successfully installed faiss-cpu-1.8.0\n",
      "Collecting sentence_transformers\n",
      "  Downloading sentence_transformers-2.7.0-py3-none-any.whl.metadata (11 kB)\n",
      "Collecting transformers<5.0.0,>=4.34.0 (from sentence_transformers)\n",
      "  Downloading transformers-4.40.2-py3-none-any.whl.metadata (137 kB)\n",
      "     ---------------------------------------- 0.0/138.0 kB ? eta -:--:--\n",
      "     -- ------------------------------------- 10.2/138.0 kB ? eta -:--:--\n",
      "     ----------------------- --------------- 81.9/138.0 kB 1.5 MB/s eta 0:00:01\n",
      "     -------------------------------------- 138.0/138.0 kB 2.1 MB/s eta 0:00:00\n",
      "Requirement already satisfied: tqdm in c:\\users\\aakarsh roy\\anaconda3\\lib\\site-packages (from sentence_transformers) (4.65.0)\n",
      "Requirement already satisfied: torch>=1.11.0 in c:\\users\\aakarsh roy\\anaconda3\\lib\\site-packages (from sentence_transformers) (2.2.1)\n",
      "Requirement already satisfied: numpy in c:\\users\\aakarsh roy\\anaconda3\\lib\\site-packages (from sentence_transformers) (1.26.4)\n",
      "Requirement already satisfied: scikit-learn in c:\\users\\aakarsh roy\\anaconda3\\lib\\site-packages (from sentence_transformers) (1.2.2)\n",
      "Requirement already satisfied: scipy in c:\\users\\aakarsh roy\\anaconda3\\lib\\site-packages (from sentence_transformers) (1.11.4)\n",
      "Collecting huggingface-hub>=0.15.1 (from sentence_transformers)\n",
      "  Downloading huggingface_hub-0.23.0-py3-none-any.whl.metadata (12 kB)\n",
      "Requirement already satisfied: Pillow in c:\\users\\aakarsh roy\\anaconda3\\lib\\site-packages (from sentence_transformers) (10.2.0)\n",
      "Requirement already satisfied: filelock in c:\\users\\aakarsh roy\\anaconda3\\lib\\site-packages (from huggingface-hub>=0.15.1->sentence_transformers) (3.13.1)\n",
      "Requirement already satisfied: fsspec>=2023.5.0 in c:\\users\\aakarsh roy\\anaconda3\\lib\\site-packages (from huggingface-hub>=0.15.1->sentence_transformers) (2023.10.0)\n",
      "Requirement already satisfied: packaging>=20.9 in c:\\users\\aakarsh roy\\anaconda3\\lib\\site-packages (from huggingface-hub>=0.15.1->sentence_transformers) (23.2)\n",
      "Requirement already satisfied: pyyaml>=5.1 in c:\\users\\aakarsh roy\\anaconda3\\lib\\site-packages (from huggingface-hub>=0.15.1->sentence_transformers) (6.0.1)\n",
      "Requirement already satisfied: requests in c:\\users\\aakarsh roy\\anaconda3\\lib\\site-packages (from huggingface-hub>=0.15.1->sentence_transformers) (2.31.0)\n",
      "Requirement already satisfied: typing-extensions>=3.7.4.3 in c:\\users\\aakarsh roy\\anaconda3\\lib\\site-packages (from huggingface-hub>=0.15.1->sentence_transformers) (4.9.0)\n",
      "Requirement already satisfied: sympy in c:\\users\\aakarsh roy\\anaconda3\\lib\\site-packages (from torch>=1.11.0->sentence_transformers) (1.12)\n",
      "Requirement already satisfied: networkx in c:\\users\\aakarsh roy\\anaconda3\\lib\\site-packages (from torch>=1.11.0->sentence_transformers) (3.1)\n",
      "Requirement already satisfied: jinja2 in c:\\users\\aakarsh roy\\anaconda3\\lib\\site-packages (from torch>=1.11.0->sentence_transformers) (3.1.3)\n",
      "Requirement already satisfied: colorama in c:\\users\\aakarsh roy\\anaconda3\\lib\\site-packages (from tqdm->sentence_transformers) (0.4.6)\n",
      "Requirement already satisfied: regex!=2019.12.17 in c:\\users\\aakarsh roy\\anaconda3\\lib\\site-packages (from transformers<5.0.0,>=4.34.0->sentence_transformers) (2023.10.3)\n",
      "Collecting tokenizers<0.20,>=0.19 (from transformers<5.0.0,>=4.34.0->sentence_transformers)\n",
      "  Downloading tokenizers-0.19.1-cp311-none-win_amd64.whl.metadata (6.9 kB)\n",
      "Collecting safetensors>=0.4.1 (from transformers<5.0.0,>=4.34.0->sentence_transformers)\n",
      "  Downloading safetensors-0.4.3-cp311-none-win_amd64.whl.metadata (3.9 kB)\n",
      "Requirement already satisfied: joblib>=1.1.1 in c:\\users\\aakarsh roy\\anaconda3\\lib\\site-packages (from scikit-learn->sentence_transformers) (1.2.0)\n",
      "Requirement already satisfied: threadpoolctl>=2.0.0 in c:\\users\\aakarsh roy\\anaconda3\\lib\\site-packages (from scikit-learn->sentence_transformers) (2.2.0)\n",
      "Requirement already satisfied: MarkupSafe>=2.0 in c:\\users\\aakarsh roy\\anaconda3\\lib\\site-packages (from jinja2->torch>=1.11.0->sentence_transformers) (2.1.3)\n",
      "Requirement already satisfied: charset-normalizer<4,>=2 in c:\\users\\aakarsh roy\\anaconda3\\lib\\site-packages (from requests->huggingface-hub>=0.15.1->sentence_transformers) (3.3.2)\n",
      "Requirement already satisfied: idna<4,>=2.5 in c:\\users\\aakarsh roy\\anaconda3\\lib\\site-packages (from requests->huggingface-hub>=0.15.1->sentence_transformers) (3.4)\n",
      "Requirement already satisfied: urllib3<3,>=1.21.1 in c:\\users\\aakarsh roy\\anaconda3\\lib\\site-packages (from requests->huggingface-hub>=0.15.1->sentence_transformers) (2.0.7)\n",
      "Requirement already satisfied: certifi>=2017.4.17 in c:\\users\\aakarsh roy\\anaconda3\\lib\\site-packages (from requests->huggingface-hub>=0.15.1->sentence_transformers) (2024.2.2)\n",
      "Requirement already satisfied: mpmath>=0.19 in c:\\users\\aakarsh roy\\anaconda3\\lib\\site-packages (from sympy->torch>=1.11.0->sentence_transformers) (1.3.0)\n",
      "Downloading sentence_transformers-2.7.0-py3-none-any.whl (171 kB)\n",
      "   ---------------------------------------- 0.0/171.5 kB ? eta -:--:--\n",
      "   --------------------------------------- 171.5/171.5 kB 10.7 MB/s eta 0:00:00\n",
      "Downloading huggingface_hub-0.23.0-py3-none-any.whl (401 kB)\n",
      "   ---------------------------------------- 0.0/401.2 kB ? eta -:--:--\n",
      "   --------------------------------------- 401.2/401.2 kB 24.4 MB/s eta 0:00:00\n",
      "Downloading transformers-4.40.2-py3-none-any.whl (9.0 MB)\n",
      "   ---------------------------------------- 0.0/9.0 MB ? eta -:--:--\n",
      "   ---- ----------------------------------- 1.0/9.0 MB 21.1 MB/s eta 0:00:01\n",
      "   ------ --------------------------------- 1.6/9.0 MB 16.6 MB/s eta 0:00:01\n",
      "   -------- ------------------------------- 1.8/9.0 MB 12.9 MB/s eta 0:00:01\n",
      "   --------- ------------------------------ 2.1/9.0 MB 11.0 MB/s eta 0:00:01\n",
      "   ---------- ----------------------------- 2.3/9.0 MB 9.6 MB/s eta 0:00:01\n",
      "   ----------- ---------------------------- 2.5/9.0 MB 8.9 MB/s eta 0:00:01\n",
      "   ------------ --------------------------- 2.7/9.0 MB 8.3 MB/s eta 0:00:01\n",
      "   ------------ --------------------------- 2.9/9.0 MB 7.7 MB/s eta 0:00:01\n",
      "   ------------- -------------------------- 3.1/9.0 MB 7.4 MB/s eta 0:00:01\n",
      "   --------------- ------------------------ 3.4/9.0 MB 7.2 MB/s eta 0:00:01\n",
      "   ---------------- ----------------------- 3.7/9.0 MB 7.4 MB/s eta 0:00:01\n",
      "   ------------------ --------------------- 4.1/9.0 MB 7.4 MB/s eta 0:00:01\n",
      "   ------------------- -------------------- 4.3/9.0 MB 7.3 MB/s eta 0:00:01\n",
      "   -------------------- ------------------- 4.5/9.0 MB 7.0 MB/s eta 0:00:01\n",
      "   -------------------- ------------------- 4.7/9.0 MB 6.8 MB/s eta 0:00:01\n",
      "   --------------------- ------------------ 4.9/9.0 MB 6.7 MB/s eta 0:00:01\n",
      "   ----------------------- ---------------- 5.2/9.0 MB 6.6 MB/s eta 0:00:01\n",
      "   ------------------------ --------------- 5.6/9.0 MB 6.7 MB/s eta 0:00:01\n",
      "   -------------------------- ------------- 5.9/9.0 MB 6.8 MB/s eta 0:00:01\n",
      "   ---------------------------- ----------- 6.4/9.0 MB 6.9 MB/s eta 0:00:01\n",
      "   ------------------------------ --------- 6.8/9.0 MB 7.0 MB/s eta 0:00:01\n",
      "   ------------------------------- -------- 7.1/9.0 MB 7.1 MB/s eta 0:00:01\n",
      "   -------------------------------- ------- 7.3/9.0 MB 6.9 MB/s eta 0:00:01\n",
      "   -------------------------------- ------- 7.4/9.0 MB 6.8 MB/s eta 0:00:01\n",
      "   --------------------------------- ------ 7.6/9.0 MB 6.6 MB/s eta 0:00:01\n",
      "   ---------------------------------- ----- 7.8/9.0 MB 6.4 MB/s eta 0:00:01\n",
      "   ----------------------------------- ---- 7.9/9.0 MB 6.3 MB/s eta 0:00:01\n",
      "   ------------------------------------ --- 8.2/9.0 MB 6.4 MB/s eta 0:00:01\n",
      "   ------------------------------------- -- 8.4/9.0 MB 6.3 MB/s eta 0:00:01\n",
      "   ---------------------------------------  8.8/9.0 MB 6.3 MB/s eta 0:00:01\n",
      "   ---------------------------------------  9.0/9.0 MB 6.4 MB/s eta 0:00:01\n",
      "   ---------------------------------------- 9.0/9.0 MB 6.3 MB/s eta 0:00:00\n",
      "Downloading safetensors-0.4.3-cp311-none-win_amd64.whl (287 kB)\n",
      "   ---------------------------------------- 0.0/287.3 kB ? eta -:--:--\n",
      "   ---------------------------------------  286.7/287.3 kB 8.6 MB/s eta 0:00:01\n",
      "   ---------------------------------------- 287.3/287.3 kB 5.9 MB/s eta 0:00:00\n",
      "Downloading tokenizers-0.19.1-cp311-none-win_amd64.whl (2.2 MB)\n",
      "   ---------------------------------------- 0.0/2.2 MB ? eta -:--:--\n",
      "   ------- -------------------------------- 0.4/2.2 MB 13.2 MB/s eta 0:00:01\n",
      "   --------------- ------------------------ 0.9/2.2 MB 11.2 MB/s eta 0:00:01\n",
      "   ------------------------- -------------- 1.4/2.2 MB 11.1 MB/s eta 0:00:01\n",
      "   ---------------------------------- ----- 1.9/2.2 MB 11.0 MB/s eta 0:00:01\n",
      "   ---------------------------------------- 2.2/2.2 MB 10.1 MB/s eta 0:00:00\n",
      "Installing collected packages: safetensors, huggingface-hub, tokenizers, transformers, sentence_transformers\n",
      "Successfully installed huggingface-hub-0.23.0 safetensors-0.4.3 sentence_transformers-2.7.0 tokenizers-0.19.1 transformers-4.40.2\n"
     ]
    }
   ],
   "source": [
    "!pip install faiss-cpu\n",
    "!pip install sentence_transformers"
   ]
  },
  {
   "cell_type": "code",
   "execution_count": 2,
   "id": "0a4b6927-f417-4cc9-bc72-aab9657fa598",
   "metadata": {},
   "outputs": [],
   "source": [
    "import pandas as pd \n",
    "pd.set_option('display.max_colwidth',100)"
   ]
  },
  {
   "cell_type": "code",
   "execution_count": 3,
   "id": "2f2db703-f3f2-4ef2-8d6d-ac4936f92074",
   "metadata": {},
   "outputs": [
    {
     "data": {
      "text/plain": [
       "(8, 2)"
      ]
     },
     "execution_count": 3,
     "metadata": {},
     "output_type": "execute_result"
    }
   ],
   "source": [
    "df=pd.read_csv('sample_text.csv')\n",
    "df.shape"
   ]
  },
  {
   "cell_type": "code",
   "execution_count": 4,
   "id": "4c9e3fbf-8403-4f3f-9431-3d807017d510",
   "metadata": {},
   "outputs": [
    {
     "data": {
      "text/html": [
       "<div>\n",
       "<style scoped>\n",
       "    .dataframe tbody tr th:only-of-type {\n",
       "        vertical-align: middle;\n",
       "    }\n",
       "\n",
       "    .dataframe tbody tr th {\n",
       "        vertical-align: top;\n",
       "    }\n",
       "\n",
       "    .dataframe thead th {\n",
       "        text-align: right;\n",
       "    }\n",
       "</style>\n",
       "<table border=\"1\" class=\"dataframe\">\n",
       "  <thead>\n",
       "    <tr style=\"text-align: right;\">\n",
       "      <th></th>\n",
       "      <th>text</th>\n",
       "      <th>category</th>\n",
       "    </tr>\n",
       "  </thead>\n",
       "  <tbody>\n",
       "    <tr>\n",
       "      <th>0</th>\n",
       "      <td>Meditation and yoga can improve mental health</td>\n",
       "      <td>Health</td>\n",
       "    </tr>\n",
       "    <tr>\n",
       "      <th>1</th>\n",
       "      <td>Fruits, whole grains and vegetables helps control blood pressure</td>\n",
       "      <td>Health</td>\n",
       "    </tr>\n",
       "    <tr>\n",
       "      <th>2</th>\n",
       "      <td>These are the latest fashion trends for this week</td>\n",
       "      <td>Fashion</td>\n",
       "    </tr>\n",
       "    <tr>\n",
       "      <th>3</th>\n",
       "      <td>Vibrant color jeans for male are becoming a trend</td>\n",
       "      <td>Fashion</td>\n",
       "    </tr>\n",
       "    <tr>\n",
       "      <th>4</th>\n",
       "      <td>The concert starts at 7 PM tonight</td>\n",
       "      <td>Event</td>\n",
       "    </tr>\n",
       "    <tr>\n",
       "      <th>5</th>\n",
       "      <td>Navaratri dandiya program at Expo center in Mumbai this october</td>\n",
       "      <td>Event</td>\n",
       "    </tr>\n",
       "    <tr>\n",
       "      <th>6</th>\n",
       "      <td>Exciting vacation destinations for your next trip</td>\n",
       "      <td>Travel</td>\n",
       "    </tr>\n",
       "    <tr>\n",
       "      <th>7</th>\n",
       "      <td>Maldives and Srilanka are gaining popularity in terms of low budget vacation places</td>\n",
       "      <td>Travel</td>\n",
       "    </tr>\n",
       "  </tbody>\n",
       "</table>\n",
       "</div>"
      ],
      "text/plain": [
       "                                                                                  text category\n",
       "0                                        Meditation and yoga can improve mental health   Health\n",
       "1                     Fruits, whole grains and vegetables helps control blood pressure   Health\n",
       "2                                    These are the latest fashion trends for this week  Fashion\n",
       "3                                    Vibrant color jeans for male are becoming a trend  Fashion\n",
       "4                                                   The concert starts at 7 PM tonight    Event\n",
       "5                      Navaratri dandiya program at Expo center in Mumbai this october    Event\n",
       "6                                    Exciting vacation destinations for your next trip   Travel\n",
       "7  Maldives and Srilanka are gaining popularity in terms of low budget vacation places   Travel"
      ]
     },
     "execution_count": 4,
     "metadata": {},
     "output_type": "execute_result"
    }
   ],
   "source": [
    "df"
   ]
  },
  {
   "cell_type": "code",
   "execution_count": 6,
   "id": "50b32723-2f95-41d6-b74d-061c74533301",
   "metadata": {},
   "outputs": [
    {
     "name": "stderr",
     "output_type": "stream",
     "text": [
      "C:\\Users\\Aakarsh Roy\\anaconda3\\Lib\\site-packages\\huggingface_hub\\file_download.py:1132: FutureWarning: `resume_download` is deprecated and will be removed in version 1.0.0. Downloads always resume when possible. If you want to force a new download, use `force_download=True`.\n",
      "  warnings.warn(\n"
     ]
    },
    {
     "data": {
      "text/plain": [
       "(8, 768)"
      ]
     },
     "execution_count": 6,
     "metadata": {},
     "output_type": "execute_result"
    }
   ],
   "source": [
    "from sentence_transformers import SentenceTransformer\n",
    "encoder=SentenceTransformer('all-mpnet-base-v2')\n",
    "vectors=encoder.encode(df.text)\n",
    "vectors.shape"
   ]
  },
  {
   "cell_type": "code",
   "execution_count": 7,
   "id": "57068b9b-8b96-4163-a6aa-c458cb352424",
   "metadata": {},
   "outputs": [
    {
     "data": {
      "text/plain": [
       "array([[-0.00247395,  0.03626722, -0.0529046 , ..., -0.09152357,\n",
       "        -0.03970001, -0.0433049 ],\n",
       "       [-0.03357267,  0.00980516, -0.03250129, ..., -0.05165466,\n",
       "         0.02245887, -0.03156181],\n",
       "       [-0.01865323, -0.04051314, -0.01235388, ...,  0.00610586,\n",
       "        -0.07179647,  0.0277385 ],\n",
       "       ...,\n",
       "       [-0.00066457,  0.04252129, -0.05645508, ...,  0.01315471,\n",
       "        -0.03183567, -0.04357663],\n",
       "       [-0.03317155,  0.03252455, -0.02484839, ...,  0.01174421,\n",
       "         0.05747127,  0.00571023],\n",
       "       [-0.00166394,  0.00413829, -0.04597083, ...,  0.02008526,\n",
       "         0.05656243, -0.00161595]], dtype=float32)"
      ]
     },
     "execution_count": 7,
     "metadata": {},
     "output_type": "execute_result"
    }
   ],
   "source": [
    "vectors"
   ]
  },
  {
   "cell_type": "code",
   "execution_count": 8,
   "id": "ee0a23aa-b180-44f2-9ecf-c54fad9b737a",
   "metadata": {},
   "outputs": [
    {
     "data": {
      "text/plain": [
       "768"
      ]
     },
     "execution_count": 8,
     "metadata": {},
     "output_type": "execute_result"
    }
   ],
   "source": [
    "dim=vectors.shape[1]\n",
    "dim"
   ]
  },
  {
   "cell_type": "code",
   "execution_count": 9,
   "id": "6a8869a2-30a5-4cab-9f0b-866988434140",
   "metadata": {},
   "outputs": [
    {
     "data": {
      "text/plain": [
       "<faiss.swigfaiss_avx2.IndexFlatL2; proxy of <Swig Object of type 'faiss::IndexFlatL2 *' at 0x000001B0B23FDA10> >"
      ]
     },
     "execution_count": 9,
     "metadata": {},
     "output_type": "execute_result"
    }
   ],
   "source": [
    "import faiss\n",
    "index=faiss.IndexFlatL2(dim)\n",
    "index"
   ]
  },
  {
   "cell_type": "code",
   "execution_count": 10,
   "id": "63dc527c-2f53-43b8-a0d6-14f3c7c3566a",
   "metadata": {},
   "outputs": [],
   "source": [
    "index.add(vectors)"
   ]
  },
  {
   "cell_type": "code",
   "execution_count": 11,
   "id": "b18d9d5f-1623-417a-9fc6-a10b279856db",
   "metadata": {},
   "outputs": [
    {
     "data": {
      "text/plain": [
       "(768,)"
      ]
     },
     "execution_count": 11,
     "metadata": {},
     "output_type": "execute_result"
    }
   ],
   "source": [
    "search_query=\"I want to buy a polo tshirt\"\n",
    "vec=encoder.encode(search_query)\n",
    "vec.shape"
   ]
  },
  {
   "cell_type": "code",
   "execution_count": 12,
   "id": "19dc2782-f143-46ee-b0a7-7d175b85820f",
   "metadata": {},
   "outputs": [
    {
     "data": {
      "text/plain": [
       "(1, 768)"
      ]
     },
     "execution_count": 12,
     "metadata": {},
     "output_type": "execute_result"
    }
   ],
   "source": [
    "import numpy as np \n",
    "svec=np.array(vec).reshape(1,-1)\n",
    "svec.shape"
   ]
  },
  {
   "cell_type": "code",
   "execution_count": 13,
   "id": "e0ce6b0b-8a37-44ac-af5d-1d65231fafde",
   "metadata": {},
   "outputs": [
    {
     "data": {
      "text/plain": [
       "array([[2, 3]], dtype=int64)"
      ]
     },
     "execution_count": 13,
     "metadata": {},
     "output_type": "execute_result"
    }
   ],
   "source": [
    "dist, i=index.search(svec,k=2)\n",
    "i"
   ]
  },
  {
   "cell_type": "code",
   "execution_count": 15,
   "id": "13e94883-c29a-476c-bb01-6b71e7ba9e94",
   "metadata": {},
   "outputs": [
    {
     "data": {
      "text/html": [
       "<div>\n",
       "<style scoped>\n",
       "    .dataframe tbody tr th:only-of-type {\n",
       "        vertical-align: middle;\n",
       "    }\n",
       "\n",
       "    .dataframe tbody tr th {\n",
       "        vertical-align: top;\n",
       "    }\n",
       "\n",
       "    .dataframe thead th {\n",
       "        text-align: right;\n",
       "    }\n",
       "</style>\n",
       "<table border=\"1\" class=\"dataframe\">\n",
       "  <thead>\n",
       "    <tr style=\"text-align: right;\">\n",
       "      <th></th>\n",
       "      <th>text</th>\n",
       "      <th>category</th>\n",
       "    </tr>\n",
       "  </thead>\n",
       "  <tbody>\n",
       "    <tr>\n",
       "      <th>2</th>\n",
       "      <td>These are the latest fashion trends for this week</td>\n",
       "      <td>Fashion</td>\n",
       "    </tr>\n",
       "    <tr>\n",
       "      <th>3</th>\n",
       "      <td>Vibrant color jeans for male are becoming a trend</td>\n",
       "      <td>Fashion</td>\n",
       "    </tr>\n",
       "  </tbody>\n",
       "</table>\n",
       "</div>"
      ],
      "text/plain": [
       "                                                text category\n",
       "2  These are the latest fashion trends for this week  Fashion\n",
       "3  Vibrant color jeans for male are becoming a trend  Fashion"
      ]
     },
     "execution_count": 15,
     "metadata": {},
     "output_type": "execute_result"
    }
   ],
   "source": [
    "df.loc[[2,3]]"
   ]
  },
  {
   "cell_type": "code",
   "execution_count": 24,
   "id": "8e086a6e-8992-4f62-884d-e9036c853a25",
   "metadata": {},
   "outputs": [
    {
     "data": {
      "text/plain": [
       "(768,)"
      ]
     },
     "execution_count": 24,
     "metadata": {},
     "output_type": "execute_result"
    }
   ],
   "source": [
    "search_query2=\"Eat apple and keep the doctor away\"\n",
    "vec=encoder.encode(search_query2)\n",
    "vec.shape"
   ]
  },
  {
   "cell_type": "code",
   "execution_count": 25,
   "id": "7d3ba156-ceda-4966-9220-a60217fd618c",
   "metadata": {},
   "outputs": [
    {
     "data": {
      "text/plain": [
       "(1, 768)"
      ]
     },
     "execution_count": 25,
     "metadata": {},
     "output_type": "execute_result"
    }
   ],
   "source": [
    "import numpy as np \n",
    "svec=np.array(vec).reshape(1,-1)\n",
    "svec.shape"
   ]
  },
  {
   "cell_type": "code",
   "execution_count": 26,
   "id": "7fc5cc0b-d8cf-47b0-ba77-01da798afde4",
   "metadata": {},
   "outputs": [
    {
     "data": {
      "text/plain": [
       "array([[1, 0]], dtype=int64)"
      ]
     },
     "execution_count": 26,
     "metadata": {},
     "output_type": "execute_result"
    }
   ],
   "source": [
    "dist, i=index.search(svec,k=2)\n",
    "i"
   ]
  },
  {
   "cell_type": "code",
   "execution_count": 27,
   "id": "8052ed74-8591-48de-98a8-c7d39aa5e08a",
   "metadata": {},
   "outputs": [
    {
     "data": {
      "text/html": [
       "<div>\n",
       "<style scoped>\n",
       "    .dataframe tbody tr th:only-of-type {\n",
       "        vertical-align: middle;\n",
       "    }\n",
       "\n",
       "    .dataframe tbody tr th {\n",
       "        vertical-align: top;\n",
       "    }\n",
       "\n",
       "    .dataframe thead th {\n",
       "        text-align: right;\n",
       "    }\n",
       "</style>\n",
       "<table border=\"1\" class=\"dataframe\">\n",
       "  <thead>\n",
       "    <tr style=\"text-align: right;\">\n",
       "      <th></th>\n",
       "      <th>text</th>\n",
       "      <th>category</th>\n",
       "    </tr>\n",
       "  </thead>\n",
       "  <tbody>\n",
       "    <tr>\n",
       "      <th>1</th>\n",
       "      <td>Fruits, whole grains and vegetables helps control blood pressure</td>\n",
       "      <td>Health</td>\n",
       "    </tr>\n",
       "    <tr>\n",
       "      <th>0</th>\n",
       "      <td>Meditation and yoga can improve mental health</td>\n",
       "      <td>Health</td>\n",
       "    </tr>\n",
       "  </tbody>\n",
       "</table>\n",
       "</div>"
      ],
      "text/plain": [
       "                                                               text category\n",
       "1  Fruits, whole grains and vegetables helps control blood pressure   Health\n",
       "0                     Meditation and yoga can improve mental health   Health"
      ]
     },
     "execution_count": 27,
     "metadata": {},
     "output_type": "execute_result"
    }
   ],
   "source": [
    "df.loc[[1,0]]"
   ]
  },
  {
   "cell_type": "code",
   "execution_count": null,
   "id": "c0e8e088-a725-4a15-9932-011dbe8239a0",
   "metadata": {},
   "outputs": [],
   "source": []
  }
 ],
 "metadata": {
  "kernelspec": {
   "display_name": "Python 3 (ipykernel)",
   "language": "python",
   "name": "python3"
  },
  "language_info": {
   "codemirror_mode": {
    "name": "ipython",
    "version": 3
   },
   "file_extension": ".py",
   "mimetype": "text/x-python",
   "name": "python",
   "nbconvert_exporter": "python",
   "pygments_lexer": "ipython3",
   "version": "3.11.7"
  }
 },
 "nbformat": 4,
 "nbformat_minor": 5
}
